{
  "nbformat": 4,
  "nbformat_minor": 0,
  "metadata": {
    "colab": {
      "name": "rossman_time_analysis.ipynb",
      "provenance": []
    },
    "kernelspec": {
      "name": "python3",
      "display_name": "Python 3"
    },
    "language_info": {
      "name": "python"
    }
  },
  "cells": [
    {
      "cell_type": "code",
      "metadata": {
        "id": "XKYfFz4Jr5Jv"
      },
      "source": [
        "from google_drive_downloader import GoogleDriveDownloader as gdd"
      ],
      "execution_count": 7,
      "outputs": []
    },
    {
      "cell_type": "code",
      "metadata": {
        "id": "TCrsUO_Csg2q"
      },
      "source": [
        "from google_drive_downloader import GoogleDriveDownloader as gdd\n",
        "\n",
        "gdd.download_file_from_google_drive(file_id='1NkFzQ5N-I1J34-0uStvw0xaPbntqk7AV',\n",
        "dest_path='content/rosseman.zip',   \n",
        "unzip=True)"
      ],
      "execution_count": 8,
      "outputs": []
    },
    {
      "cell_type": "code",
      "metadata": {
        "id": "j2PJZsqt_TTr"
      },
      "source": [
        "# since the size of teras package is too big I have done Rnn in google collab."
      ],
      "execution_count": 9,
      "outputs": []
    },
    {
      "cell_type": "markdown",
      "metadata": {
        "id": "juXt6fuR_UfS"
      },
      "source": [
        ""
      ]
    },
    {
      "cell_type": "code",
      "metadata": {
        "id": "tXcDHtjT_j6O"
      },
      "source": [
        "from IPython.display import Markdown, display, Image\n",
        "import warnings\n",
        "warnings.filterwarnings('ignore')"
      ],
      "execution_count": 10,
      "outputs": []
    },
    {
      "cell_type": "code",
      "metadata": {
        "colab": {
          "base_uri": "https://localhost:8080/"
        },
        "id": "3lh9g7_D_-OR",
        "outputId": "2e6299ea-dfdf-404b-8725-cb4e1e7d7bf9"
      },
      "source": [
        "import seaborn as sns\n",
        "import matplotlib.pyplot as plt\n",
        "%matplotlib inline\n",
        "import plotly.express as px\n",
        "import numpy as np\n",
        "from statsmodels.tsa.stattools import adfuller, acf, pacf\n",
        "import pandas as pd\n",
        "from sklearn.preprocessing import Normalizer, MinMaxScaler, StandardScaler, RobustScaler\n",
        "from statsmodels.graphics.tsaplots import plot_acf, plot_pacf\n",
        "import datetime\n",
        "import tensorflow as tf\n",
        "from tensorflow.keras.models import Sequential\n",
        "from tensorflow.keras.layers import Dense\n",
        "from tensorflow.keras.layers import LSTM\n",
        "!pip install mlflow\n",
        "import mlflow.tensorflow\n",
        "sns.set()"
      ],
      "execution_count": 11,
      "outputs": [
        {
          "output_type": "stream",
          "text": [
            "Requirement already satisfied: mlflow in /usr/local/lib/python3.7/dist-packages (1.19.0)\n",
            "Requirement already satisfied: alembic<=1.4.1 in /usr/local/lib/python3.7/dist-packages (from mlflow) (1.4.1)\n",
            "Requirement already satisfied: querystring-parser in /usr/local/lib/python3.7/dist-packages (from mlflow) (1.2.4)\n",
            "Requirement already satisfied: numpy in /usr/local/lib/python3.7/dist-packages (from mlflow) (1.19.5)\n",
            "Requirement already satisfied: requests>=2.17.3 in /usr/local/lib/python3.7/dist-packages (from mlflow) (2.23.0)\n",
            "Requirement already satisfied: gitpython>=2.1.0 in /usr/local/lib/python3.7/dist-packages (from mlflow) (3.1.18)\n",
            "Requirement already satisfied: protobuf>=3.7.0 in /usr/local/lib/python3.7/dist-packages (from mlflow) (3.17.3)\n",
            "Requirement already satisfied: packaging in /usr/local/lib/python3.7/dist-packages (from mlflow) (21.0)\n",
            "Requirement already satisfied: prometheus-flask-exporter in /usr/local/lib/python3.7/dist-packages (from mlflow) (0.18.2)\n",
            "Requirement already satisfied: sqlparse>=0.3.1 in /usr/local/lib/python3.7/dist-packages (from mlflow) (0.4.1)\n",
            "Requirement already satisfied: pyyaml>=5.1 in /usr/local/lib/python3.7/dist-packages (from mlflow) (5.4.1)\n",
            "Requirement already satisfied: cloudpickle in /usr/local/lib/python3.7/dist-packages (from mlflow) (1.3.0)\n",
            "Requirement already satisfied: sqlalchemy in /usr/local/lib/python3.7/dist-packages (from mlflow) (1.4.20)\n",
            "Requirement already satisfied: click>=7.0 in /usr/local/lib/python3.7/dist-packages (from mlflow) (7.1.2)\n",
            "Requirement already satisfied: pandas in /usr/local/lib/python3.7/dist-packages (from mlflow) (1.1.5)\n",
            "Requirement already satisfied: databricks-cli>=0.8.7 in /usr/local/lib/python3.7/dist-packages (from mlflow) (0.14.3)\n",
            "Requirement already satisfied: pytz in /usr/local/lib/python3.7/dist-packages (from mlflow) (2018.9)\n",
            "Requirement already satisfied: entrypoints in /usr/local/lib/python3.7/dist-packages (from mlflow) (0.3)\n",
            "Requirement already satisfied: docker>=4.0.0 in /usr/local/lib/python3.7/dist-packages (from mlflow) (5.0.0)\n",
            "Requirement already satisfied: Flask in /usr/local/lib/python3.7/dist-packages (from mlflow) (1.1.4)\n",
            "Requirement already satisfied: gunicorn in /usr/local/lib/python3.7/dist-packages (from mlflow) (20.1.0)\n",
            "Requirement already satisfied: python-dateutil in /usr/local/lib/python3.7/dist-packages (from alembic<=1.4.1->mlflow) (2.8.1)\n",
            "Requirement already satisfied: python-editor>=0.3 in /usr/local/lib/python3.7/dist-packages (from alembic<=1.4.1->mlflow) (1.0.4)\n",
            "Requirement already satisfied: Mako in /usr/local/lib/python3.7/dist-packages (from alembic<=1.4.1->mlflow) (1.1.4)\n",
            "Requirement already satisfied: six>=1.10.0 in /usr/local/lib/python3.7/dist-packages (from databricks-cli>=0.8.7->mlflow) (1.15.0)\n",
            "Requirement already satisfied: tabulate>=0.7.7 in /usr/local/lib/python3.7/dist-packages (from databricks-cli>=0.8.7->mlflow) (0.8.9)\n",
            "Requirement already satisfied: websocket-client>=0.32.0 in /usr/local/lib/python3.7/dist-packages (from docker>=4.0.0->mlflow) (1.1.0)\n",
            "Requirement already satisfied: gitdb<5,>=4.0.1 in /usr/local/lib/python3.7/dist-packages (from gitpython>=2.1.0->mlflow) (4.0.7)\n",
            "Requirement already satisfied: typing-extensions>=3.7.4.0 in /usr/local/lib/python3.7/dist-packages (from gitpython>=2.1.0->mlflow) (3.7.4.3)\n",
            "Requirement already satisfied: smmap<5,>=3.0.1 in /usr/local/lib/python3.7/dist-packages (from gitdb<5,>=4.0.1->gitpython>=2.1.0->mlflow) (4.0.0)\n",
            "Requirement already satisfied: chardet<4,>=3.0.2 in /usr/local/lib/python3.7/dist-packages (from requests>=2.17.3->mlflow) (3.0.4)\n",
            "Requirement already satisfied: idna<3,>=2.5 in /usr/local/lib/python3.7/dist-packages (from requests>=2.17.3->mlflow) (2.10)\n",
            "Requirement already satisfied: urllib3!=1.25.0,!=1.25.1,<1.26,>=1.21.1 in /usr/local/lib/python3.7/dist-packages (from requests>=2.17.3->mlflow) (1.24.3)\n",
            "Requirement already satisfied: certifi>=2017.4.17 in /usr/local/lib/python3.7/dist-packages (from requests>=2.17.3->mlflow) (2021.5.30)\n",
            "Requirement already satisfied: importlib-metadata in /usr/local/lib/python3.7/dist-packages (from sqlalchemy->mlflow) (4.6.1)\n",
            "Requirement already satisfied: greenlet!=0.4.17 in /usr/local/lib/python3.7/dist-packages (from sqlalchemy->mlflow) (1.1.0)\n",
            "Requirement already satisfied: itsdangerous<2.0,>=0.24 in /usr/local/lib/python3.7/dist-packages (from Flask->mlflow) (1.1.0)\n",
            "Requirement already satisfied: Werkzeug<2.0,>=0.15 in /usr/local/lib/python3.7/dist-packages (from Flask->mlflow) (1.0.1)\n",
            "Requirement already satisfied: Jinja2<3.0,>=2.10.1 in /usr/local/lib/python3.7/dist-packages (from Flask->mlflow) (2.11.3)\n",
            "Requirement already satisfied: MarkupSafe>=0.23 in /usr/local/lib/python3.7/dist-packages (from Jinja2<3.0,>=2.10.1->Flask->mlflow) (2.0.1)\n",
            "Requirement already satisfied: setuptools>=3.0 in /usr/local/lib/python3.7/dist-packages (from gunicorn->mlflow) (57.2.0)\n",
            "Requirement already satisfied: zipp>=0.5 in /usr/local/lib/python3.7/dist-packages (from importlib-metadata->sqlalchemy->mlflow) (3.5.0)\n",
            "Requirement already satisfied: pyparsing>=2.0.2 in /usr/local/lib/python3.7/dist-packages (from packaging->mlflow) (2.4.7)\n",
            "Requirement already satisfied: prometheus-client in /usr/local/lib/python3.7/dist-packages (from prometheus-flask-exporter->mlflow) (0.11.0)\n"
          ],
          "name": "stdout"
        }
      ]
    },
    {
      "cell_type": "code",
      "metadata": {
        "id": "GzmQfBhFAY_7"
      },
      "source": [
        "def read_csv(csv_path, missing_values=[]):\n",
        "  \"\"\"\n",
        "  reads csv file\n",
        "  \"\"\"\n",
        "  try:\n",
        "    df = pd.read_csv(csv_path, na_values=missing_values)\n",
        "    print(\"file read as csv\")\n",
        "    return df\n",
        "  except FileNotFoundError:\n",
        "    print(\"file not found\")"
      ],
      "execution_count": 12,
      "outputs": []
    },
    {
      "cell_type": "code",
      "metadata": {
        "colab": {
          "base_uri": "https://localhost:8080/"
        },
        "id": "2Q7rskrpAMDc",
        "outputId": "3e7041cf-9f12-4b0e-f6be-2fbb56d59193"
      },
      "source": [
        "df_train = read_csv(\"content/rossman data/train.csv\")\n",
        "test = read_csv(\"content/rossman data/test.csv\")"
      ],
      "execution_count": 13,
      "outputs": [
        {
          "output_type": "stream",
          "text": [
            "file read as csv\n",
            "file read as csv\n"
          ],
          "name": "stdout"
        }
      ]
    },
    {
      "cell_type": "code",
      "metadata": {
        "colab": {
          "base_uri": "https://localhost:8080/",
          "height": 204
        },
        "id": "xboB7WPUDL_K",
        "outputId": "78ee8265-6339-4e9d-c8ad-5953d401f631"
      },
      "source": [
        "# A quick view a data on hand\n",
        "display(df_train.head())\n"
      ],
      "execution_count": 14,
      "outputs": [
        {
          "output_type": "display_data",
          "data": {
            "text/html": [
              "<div>\n",
              "<style scoped>\n",
              "    .dataframe tbody tr th:only-of-type {\n",
              "        vertical-align: middle;\n",
              "    }\n",
              "\n",
              "    .dataframe tbody tr th {\n",
              "        vertical-align: top;\n",
              "    }\n",
              "\n",
              "    .dataframe thead th {\n",
              "        text-align: right;\n",
              "    }\n",
              "</style>\n",
              "<table border=\"1\" class=\"dataframe\">\n",
              "  <thead>\n",
              "    <tr style=\"text-align: right;\">\n",
              "      <th></th>\n",
              "      <th>Store</th>\n",
              "      <th>DayOfWeek</th>\n",
              "      <th>Date</th>\n",
              "      <th>Sales</th>\n",
              "      <th>Customers</th>\n",
              "      <th>Open</th>\n",
              "      <th>Promo</th>\n",
              "      <th>StateHoliday</th>\n",
              "      <th>SchoolHoliday</th>\n",
              "    </tr>\n",
              "  </thead>\n",
              "  <tbody>\n",
              "    <tr>\n",
              "      <th>0</th>\n",
              "      <td>1</td>\n",
              "      <td>5</td>\n",
              "      <td>2015-07-31</td>\n",
              "      <td>5263</td>\n",
              "      <td>555</td>\n",
              "      <td>1</td>\n",
              "      <td>1</td>\n",
              "      <td>0</td>\n",
              "      <td>1</td>\n",
              "    </tr>\n",
              "    <tr>\n",
              "      <th>1</th>\n",
              "      <td>2</td>\n",
              "      <td>5</td>\n",
              "      <td>2015-07-31</td>\n",
              "      <td>6064</td>\n",
              "      <td>625</td>\n",
              "      <td>1</td>\n",
              "      <td>1</td>\n",
              "      <td>0</td>\n",
              "      <td>1</td>\n",
              "    </tr>\n",
              "    <tr>\n",
              "      <th>2</th>\n",
              "      <td>3</td>\n",
              "      <td>5</td>\n",
              "      <td>2015-07-31</td>\n",
              "      <td>8314</td>\n",
              "      <td>821</td>\n",
              "      <td>1</td>\n",
              "      <td>1</td>\n",
              "      <td>0</td>\n",
              "      <td>1</td>\n",
              "    </tr>\n",
              "    <tr>\n",
              "      <th>3</th>\n",
              "      <td>4</td>\n",
              "      <td>5</td>\n",
              "      <td>2015-07-31</td>\n",
              "      <td>13995</td>\n",
              "      <td>1498</td>\n",
              "      <td>1</td>\n",
              "      <td>1</td>\n",
              "      <td>0</td>\n",
              "      <td>1</td>\n",
              "    </tr>\n",
              "    <tr>\n",
              "      <th>4</th>\n",
              "      <td>5</td>\n",
              "      <td>5</td>\n",
              "      <td>2015-07-31</td>\n",
              "      <td>4822</td>\n",
              "      <td>559</td>\n",
              "      <td>1</td>\n",
              "      <td>1</td>\n",
              "      <td>0</td>\n",
              "      <td>1</td>\n",
              "    </tr>\n",
              "  </tbody>\n",
              "</table>\n",
              "</div>"
            ],
            "text/plain": [
              "   Store  DayOfWeek        Date  Sales  ...  Open  Promo  StateHoliday SchoolHoliday\n",
              "0      1          5  2015-07-31   5263  ...     1      1             0             1\n",
              "1      2          5  2015-07-31   6064  ...     1      1             0             1\n",
              "2      3          5  2015-07-31   8314  ...     1      1             0             1\n",
              "3      4          5  2015-07-31  13995  ...     1      1             0             1\n",
              "4      5          5  2015-07-31   4822  ...     1      1             0             1\n",
              "\n",
              "[5 rows x 9 columns]"
            ]
          },
          "metadata": {
            "tags": []
          }
        }
      ]
    },
    {
      "cell_type": "code",
      "metadata": {
        "colab": {
          "base_uri": "https://localhost:8080/",
          "height": 297
        },
        "id": "YckXhdAZDqx6",
        "outputId": "3fe732f6-8c15-41fc-de3f-0e9197827631"
      },
      "source": [
        "display(df_train.describe())\n"
      ],
      "execution_count": 15,
      "outputs": [
        {
          "output_type": "display_data",
          "data": {
            "text/html": [
              "<div>\n",
              "<style scoped>\n",
              "    .dataframe tbody tr th:only-of-type {\n",
              "        vertical-align: middle;\n",
              "    }\n",
              "\n",
              "    .dataframe tbody tr th {\n",
              "        vertical-align: top;\n",
              "    }\n",
              "\n",
              "    .dataframe thead th {\n",
              "        text-align: right;\n",
              "    }\n",
              "</style>\n",
              "<table border=\"1\" class=\"dataframe\">\n",
              "  <thead>\n",
              "    <tr style=\"text-align: right;\">\n",
              "      <th></th>\n",
              "      <th>Store</th>\n",
              "      <th>DayOfWeek</th>\n",
              "      <th>Sales</th>\n",
              "      <th>Customers</th>\n",
              "      <th>Open</th>\n",
              "      <th>Promo</th>\n",
              "      <th>SchoolHoliday</th>\n",
              "    </tr>\n",
              "  </thead>\n",
              "  <tbody>\n",
              "    <tr>\n",
              "      <th>count</th>\n",
              "      <td>1.017209e+06</td>\n",
              "      <td>1.017209e+06</td>\n",
              "      <td>1.017209e+06</td>\n",
              "      <td>1.017209e+06</td>\n",
              "      <td>1.017209e+06</td>\n",
              "      <td>1.017209e+06</td>\n",
              "      <td>1.017209e+06</td>\n",
              "    </tr>\n",
              "    <tr>\n",
              "      <th>mean</th>\n",
              "      <td>5.584297e+02</td>\n",
              "      <td>3.998341e+00</td>\n",
              "      <td>5.773819e+03</td>\n",
              "      <td>6.331459e+02</td>\n",
              "      <td>8.301067e-01</td>\n",
              "      <td>3.815145e-01</td>\n",
              "      <td>1.786467e-01</td>\n",
              "    </tr>\n",
              "    <tr>\n",
              "      <th>std</th>\n",
              "      <td>3.219087e+02</td>\n",
              "      <td>1.997391e+00</td>\n",
              "      <td>3.849926e+03</td>\n",
              "      <td>4.644117e+02</td>\n",
              "      <td>3.755392e-01</td>\n",
              "      <td>4.857586e-01</td>\n",
              "      <td>3.830564e-01</td>\n",
              "    </tr>\n",
              "    <tr>\n",
              "      <th>min</th>\n",
              "      <td>1.000000e+00</td>\n",
              "      <td>1.000000e+00</td>\n",
              "      <td>0.000000e+00</td>\n",
              "      <td>0.000000e+00</td>\n",
              "      <td>0.000000e+00</td>\n",
              "      <td>0.000000e+00</td>\n",
              "      <td>0.000000e+00</td>\n",
              "    </tr>\n",
              "    <tr>\n",
              "      <th>25%</th>\n",
              "      <td>2.800000e+02</td>\n",
              "      <td>2.000000e+00</td>\n",
              "      <td>3.727000e+03</td>\n",
              "      <td>4.050000e+02</td>\n",
              "      <td>1.000000e+00</td>\n",
              "      <td>0.000000e+00</td>\n",
              "      <td>0.000000e+00</td>\n",
              "    </tr>\n",
              "    <tr>\n",
              "      <th>50%</th>\n",
              "      <td>5.580000e+02</td>\n",
              "      <td>4.000000e+00</td>\n",
              "      <td>5.744000e+03</td>\n",
              "      <td>6.090000e+02</td>\n",
              "      <td>1.000000e+00</td>\n",
              "      <td>0.000000e+00</td>\n",
              "      <td>0.000000e+00</td>\n",
              "    </tr>\n",
              "    <tr>\n",
              "      <th>75%</th>\n",
              "      <td>8.380000e+02</td>\n",
              "      <td>6.000000e+00</td>\n",
              "      <td>7.856000e+03</td>\n",
              "      <td>8.370000e+02</td>\n",
              "      <td>1.000000e+00</td>\n",
              "      <td>1.000000e+00</td>\n",
              "      <td>0.000000e+00</td>\n",
              "    </tr>\n",
              "    <tr>\n",
              "      <th>max</th>\n",
              "      <td>1.115000e+03</td>\n",
              "      <td>7.000000e+00</td>\n",
              "      <td>4.155100e+04</td>\n",
              "      <td>7.388000e+03</td>\n",
              "      <td>1.000000e+00</td>\n",
              "      <td>1.000000e+00</td>\n",
              "      <td>1.000000e+00</td>\n",
              "    </tr>\n",
              "  </tbody>\n",
              "</table>\n",
              "</div>"
            ],
            "text/plain": [
              "              Store     DayOfWeek  ...         Promo  SchoolHoliday\n",
              "count  1.017209e+06  1.017209e+06  ...  1.017209e+06   1.017209e+06\n",
              "mean   5.584297e+02  3.998341e+00  ...  3.815145e-01   1.786467e-01\n",
              "std    3.219087e+02  1.997391e+00  ...  4.857586e-01   3.830564e-01\n",
              "min    1.000000e+00  1.000000e+00  ...  0.000000e+00   0.000000e+00\n",
              "25%    2.800000e+02  2.000000e+00  ...  0.000000e+00   0.000000e+00\n",
              "50%    5.580000e+02  4.000000e+00  ...  0.000000e+00   0.000000e+00\n",
              "75%    8.380000e+02  6.000000e+00  ...  1.000000e+00   0.000000e+00\n",
              "max    1.115000e+03  7.000000e+00  ...  1.000000e+00   1.000000e+00\n",
              "\n",
              "[8 rows x 7 columns]"
            ]
          },
          "metadata": {
            "tags": []
          }
        }
      ]
    },
    {
      "cell_type": "code",
      "metadata": {
        "colab": {
          "base_uri": "https://localhost:8080/",
          "height": 306
        },
        "id": "amI-1ZScDsRN",
        "outputId": "58798edd-487f-4648-9888-126cfd9a3ab6"
      },
      "source": [
        "display(df_train.info())"
      ],
      "execution_count": 16,
      "outputs": [
        {
          "output_type": "stream",
          "text": [
            "<class 'pandas.core.frame.DataFrame'>\n",
            "RangeIndex: 1017209 entries, 0 to 1017208\n",
            "Data columns (total 9 columns):\n",
            " #   Column         Non-Null Count    Dtype \n",
            "---  ------         --------------    ----- \n",
            " 0   Store          1017209 non-null  int64 \n",
            " 1   DayOfWeek      1017209 non-null  int64 \n",
            " 2   Date           1017209 non-null  object\n",
            " 3   Sales          1017209 non-null  int64 \n",
            " 4   Customers      1017209 non-null  int64 \n",
            " 5   Open           1017209 non-null  int64 \n",
            " 6   Promo          1017209 non-null  int64 \n",
            " 7   StateHoliday   1017209 non-null  object\n",
            " 8   SchoolHoliday  1017209 non-null  int64 \n",
            "dtypes: int64(7), object(2)\n",
            "memory usage: 69.8+ MB\n"
          ],
          "name": "stdout"
        },
        {
          "output_type": "display_data",
          "data": {
            "text/plain": [
              "None"
            ]
          },
          "metadata": {
            "tags": []
          }
        }
      ]
    },
    {
      "cell_type": "code",
      "metadata": {
        "id": "5XHcIR6JEJIP"
      },
      "source": [
        "def get_feature(df):\n",
        "  \"\"\"\n",
        "  gets date and sales column\n",
        "  \"\"\"\n",
        "  return df[[\"Date\", \"Sales\"]]"
      ],
      "execution_count": 17,
      "outputs": []
    },
    {
      "cell_type": "code",
      "metadata": {
        "id": "nOJRyPs9IRIQ"
      },
      "source": [
        "def drop_closed(df):\n",
        "  \"\"\"\n",
        "  drops rows when open column is zero\n",
        "  \"\"\"\n",
        "  df = df[df['Open'] == 1]\n",
        "  return df"
      ],
      "execution_count": 18,
      "outputs": []
    },
    {
      "cell_type": "code",
      "metadata": {
        "id": "q7CJPcXIEsa9"
      },
      "source": [
        "\n",
        "def scaler(df, columns, mode=\"minmax\"):\n",
        "  \"\"\"\n",
        "  scales using MinMax scaler\n",
        "  \"\"\"\n",
        "  if (mode == \"minmax\"):\n",
        "      minmax_scaler = MinMaxScaler()\n",
        "      return pd.DataFrame(minmax_scaler.fit_transform(df), columns=columns), minmax_scaler\n",
        "  elif (mode == \"standard\"):\n",
        "      scaler = StandardScaler()\n",
        "      return pd.DataFrame(scaler.fit_transform(df), columns=columns), scaler\n",
        "  elif (mode == \"robust\"):\n",
        "      scaler = RobustScaler()\n",
        "      return pd.DataFrame(scaler.fit_transform(df), columns=columns), scaler"
      ],
      "execution_count": 19,
      "outputs": []
    },
    {
      "cell_type": "code",
      "metadata": {
        "id": "TeefSrf8EzCY"
      },
      "source": [
        "def add_scaled_sales(df):\n",
        "  \"\"\"\n",
        "  adds scaled sales\n",
        "  \"\"\"\n",
        "  scaled_sales, scaler_object = scaler(df[[\"Sales\"]], mode=\"minmax\", columns=[\"scaled_sales\"])\n",
        "  df[\"scaled_sales\"] = scaled_sales[\"scaled_sales\"].to_list()\n",
        "  return df, scaler_object"
      ],
      "execution_count": 20,
      "outputs": []
    },
    {
      "cell_type": "code",
      "metadata": {
        "id": "mrQ1wIupIqhF"
      },
      "source": [
        "def handle_outliers(df, col, method=\"lower_upper\"):\n",
        "  \"\"\"\n",
        "  handles outlier in the data\n",
        "  \"\"\"\n",
        "        \n",
        "  df = df.copy()\n",
        "  q1 = df[col].quantile(0.25)\n",
        "  q3 = df[col].quantile(0.75)\n",
        "\n",
        "  lower_bound = q1 - ((1.5) * (q3 - q1))\n",
        "  upper_bound = q3 + ((1.5) * (q3 - q1))\n",
        "\n",
        "  if method == \"mean\":\n",
        "    df[col] = np.where(df[col] < lower_bound,   df[col].mean(), df[col])\n",
        "    df[col] = np.where(df[col] > upper_bound, df[col].mean(), df[col])\n",
        "\n",
        "  elif  method == \"mode\":\n",
        "    df[col] = np.where(df[col] < lower_bound,   df[col].mode()[0], df[col])\n",
        "    df[col] = np.where(df[col] > upper_bound, df[col].mode()[0], df[col])\n",
        "  else:\n",
        "    df[col] = np.where(df[col] < lower_bound, lower_bound, df[col])\n",
        "    df[col] = np.where(df[col] > upper_bound, upper_bound, df[col])\n",
        "\n",
        "  return df"
      ],
      "execution_count": 21,
      "outputs": []
    },
    {
      "cell_type": "code",
      "metadata": {
        "id": "MFlx1cktF8Lk"
      },
      "source": [
        "df_train[\"Sales\"] = df_train[\"Sales\"].astype(\"float\")"
      ],
      "execution_count": 22,
      "outputs": []
    },
    {
      "cell_type": "code",
      "metadata": {
        "id": "F80sTMdfHpef"
      },
      "source": [
        "df_train = drop_closed(df_train)\n",
        "df_train = get_feature(df_train)\n",
        "df_train = handle_outliers(df_train, \"Sales\")"
      ],
      "execution_count": 23,
      "outputs": []
    },
    {
      "cell_type": "code",
      "metadata": {
        "colab": {
          "base_uri": "https://localhost:8080/",
          "height": 297
        },
        "id": "i_4HMvlnJ_w_",
        "outputId": "246217b7-909a-4ced-c0fb-80ffb19b1ac0"
      },
      "source": [
        "df_train_agg = df_train.groupby(\"Date\").agg({\"Sales\": \"mean\"})\n",
        "df_train_agg.describe()"
      ],
      "execution_count": 24,
      "outputs": [
        {
          "output_type": "execute_result",
          "data": {
            "text/html": [
              "<div>\n",
              "<style scoped>\n",
              "    .dataframe tbody tr th:only-of-type {\n",
              "        vertical-align: middle;\n",
              "    }\n",
              "\n",
              "    .dataframe tbody tr th {\n",
              "        vertical-align: top;\n",
              "    }\n",
              "\n",
              "    .dataframe thead th {\n",
              "        text-align: right;\n",
              "    }\n",
              "</style>\n",
              "<table border=\"1\" class=\"dataframe\">\n",
              "  <thead>\n",
              "    <tr style=\"text-align: right;\">\n",
              "      <th></th>\n",
              "      <th>Sales</th>\n",
              "    </tr>\n",
              "  </thead>\n",
              "  <tbody>\n",
              "    <tr>\n",
              "      <th>count</th>\n",
              "      <td>942.000000</td>\n",
              "    </tr>\n",
              "    <tr>\n",
              "      <th>mean</th>\n",
              "      <td>6988.142162</td>\n",
              "    </tr>\n",
              "    <tr>\n",
              "      <th>std</th>\n",
              "      <td>1475.510458</td>\n",
              "    </tr>\n",
              "    <tr>\n",
              "      <th>min</th>\n",
              "      <td>4057.782960</td>\n",
              "    </tr>\n",
              "    <tr>\n",
              "      <th>25%</th>\n",
              "      <td>5725.756766</td>\n",
              "    </tr>\n",
              "    <tr>\n",
              "      <th>50%</th>\n",
              "      <td>6822.535825</td>\n",
              "    </tr>\n",
              "    <tr>\n",
              "      <th>75%</th>\n",
              "      <td>7778.867102</td>\n",
              "    </tr>\n",
              "    <tr>\n",
              "      <th>max</th>\n",
              "      <td>11908.661883</td>\n",
              "    </tr>\n",
              "  </tbody>\n",
              "</table>\n",
              "</div>"
            ],
            "text/plain": [
              "              Sales\n",
              "count    942.000000\n",
              "mean    6988.142162\n",
              "std     1475.510458\n",
              "min     4057.782960\n",
              "25%     5725.756766\n",
              "50%     6822.535825\n",
              "75%     7778.867102\n",
              "max    11908.661883"
            ]
          },
          "metadata": {
            "tags": []
          },
          "execution_count": 24
        }
      ]
    },
    {
      "cell_type": "code",
      "metadata": {
        "id": "I4k2zHvwKqSL"
      },
      "source": [
        "def check_stationary(df, col):\n",
        "  \"\"\"\n",
        "  checks stationary\n",
        "  \"\"\"\n",
        "  adfResult = adfuller(df[col].values, autolag='AIC')\n",
        "  print(f'ADF Statistic: {adfResult[0]}')\n",
        "  print(f'p-value: {adfResult[1]}')\n",
        "  return adfResult[1] >= 0.05"
      ],
      "execution_count": 25,
      "outputs": []
    },
    {
      "cell_type": "code",
      "metadata": {
        "colab": {
          "base_uri": "https://localhost:8080/"
        },
        "id": "UnjoYP0-K6Gf",
        "outputId": "203ea359-d982-4e8c-ccbf-29006e5831a7"
      },
      "source": [
        "check_stationary(df_train_agg, \"Sales\")"
      ],
      "execution_count": 26,
      "outputs": [
        {
          "output_type": "stream",
          "text": [
            "ADF Statistic: -4.719271399336017\n",
            "p-value: 7.741088433521528e-05\n"
          ],
          "name": "stdout"
        },
        {
          "output_type": "execute_result",
          "data": {
            "text/plain": [
              "False"
            ]
          },
          "metadata": {
            "tags": []
          },
          "execution_count": 26
        }
      ]
    },
    {
      "cell_type": "code",
      "metadata": {
        "id": "n2WYMXBGLkXr"
      },
      "source": [
        "\n",
        "def difference(dataset, interval=1):\n",
        "    differ = list()\n",
        "    for i in range(interval, len(dataset)):\n",
        "        value = dataset[i] - dataset[i - interval]\n",
        "        differ.append(value)\n",
        "    return pd.Series(diff)"
      ],
      "execution_count": 27,
      "outputs": []
    },
    {
      "cell_type": "code",
      "metadata": {
        "id": "rQll3oEiL8EJ"
      },
      "source": [
        "def corrPlots(array: np.array, is_partial=False):\n",
        "    plt.figure(figsize=(30, 5))\n",
        "    if (not is_partial):\n",
        "        plot_acf(array)\n",
        "    else:\n",
        "        plot_pacf(array)\n",
        "    plt.show()"
      ],
      "execution_count": 28,
      "outputs": []
    },
    {
      "cell_type": "code",
      "metadata": {
        "colab": {
          "base_uri": "https://localhost:8080/",
          "height": 301
        },
        "id": "Z9DB5kl0MRUT",
        "outputId": "5abf540b-01c1-4a19-fb27-95dc05751724"
      },
      "source": [
        "# Auto correlation\n",
        "acfSalesScaled = acf(df_train_agg[\"Sales\"].values, fft=True, nlags=40)\n",
        "acfSalesScaledNp = np.array(acfSalesScaled)\n",
        "corrPlots(acfSalesScaledNp)"
      ],
      "execution_count": 29,
      "outputs": [
        {
          "output_type": "display_data",
          "data": {
            "text/plain": [
              "<Figure size 2160x360 with 0 Axes>"
            ]
          },
          "metadata": {
            "tags": []
          }
        },
        {
          "output_type": "display_data",
          "data": {
            "image/png": "[encoded data removed]",
            "text/plain": [
              "<Figure size 432x288 with 1 Axes>"
            ]
          },
          "metadata": {
            "tags": []
          }
        }
      ]
    },
    {
      "cell_type": "code",
      "metadata": {
        "colab": {
          "base_uri": "https://localhost:8080/",
          "height": 301
        },
        "id": "g3U9ENCuM3ez",
        "outputId": "573e3189-40f3-4f74-ef71-aa2be15b7554"
      },
      "source": [
        "# partial correlation\n",
        "pacfSalesScaled = pacf(df_train_agg[\"Sales\"].values, nlags=40)\n",
        "pacfSalesScaledNp = np.array(pacfSalesScaled)\n",
        "corrPlots(pacfSalesScaledNp, is_partial=True)"
      ],
      "execution_count": 30,
      "outputs": [
        {
          "output_type": "display_data",
          "data": {
            "text/plain": [
              "<Figure size 2160x360 with 0 Axes>"
            ]
          },
          "metadata": {
            "tags": []
          }
        },
        {
          "output_type": "display_data",
          "data": {
            "image/png": "[encoded data removed]",
            "text/plain": [
              "<Figure size 432x288 with 1 Axes>"
            ]
          },
          "metadata": {
            "tags": []
          }
        }
      ]
    },
    {
      "cell_type": "code",
      "metadata": {
        "id": "rOOFjJbhNxFQ"
      },
      "source": [
        "scaled_df, scaler_obj = add_scaled_sales(df_train_agg)"
      ],
      "execution_count": 31,
      "outputs": []
    },
    {
      "cell_type": "code",
      "metadata": {
        "id": "jMusp8KXOXlZ"
      },
      "source": [
        "\n",
        "\n",
        "class TimeSeriesSalsesPred:\n",
        "    \n",
        "    def __init__(self, WINDOW_SIZE, BATCH_SIZE, sales_data):\n",
        "        self.WINDOW_SIZE = WINDOW_SIZE\n",
        "        self.BATCH_SIZE = BATCH_SIZE\n",
        "        \n",
        "        data_agg = sales_data.groupby(\"Date\").agg({\"Sales\": \"mean\"})\n",
        "        self.SIZE = len(data_agg[\"Sales\"])\n",
        "\n",
        "        self.scaled_df, self.scaler_obj = add_scaled_sales(data_agg)\n",
        "        \n",
        "        self.DateTrain = np.reshape(self.scaled_df.index.values[0:BATCH_SIZE], (-1, 1))\n",
        "        self.DateValid = np.reshape(self.scaled_df.index.values[BATCH_SIZE:], (-1, 1))\n",
        "        \n",
        "        self.train_sales, self.valid_sales, self.TrainDataset, self.ValidDataset = self.prepare_data(WINDOW_SIZE,\n",
        "                                                                                                     BATCH_SIZE, \n",
        "                                                                                                     self.scaled_df)\n",
        "    \n",
        "    def prepare_data(self, WINDOW_SIZE, BATCH_SIZE, scaled_df):\n",
        "        train_sales = scaled_df[\"scaled_sales\"].values[0:BATCH_SIZE].astype('float32')\n",
        "        valid_sales = scaled_df[\"scaled_sales\"].values[BATCH_SIZE:].astype('float32')\n",
        "        TrainDataset = self.windowed_dataset(train_sales, WINDOW_SIZE, BATCH_SIZE)\n",
        "        ValidDataset = self.windowed_dataset(valid_sales, WINDOW_SIZE, BATCH_SIZE)\n",
        "        \n",
        "        return train_sales, valid_sales, TrainDataset, ValidDataset\n",
        "    \n",
        "    def train(self, EPOCHS, verbose=1, ):\n",
        "        \n",
        "        mlflow.set_experiment('Rossman-' + 'Lstm_model')\n",
        "\n",
        "        mlflow.tensorflow.autolog(every_n_iter=2,log_models=True)\n",
        "\n",
        "        mlflow.end_run()\n",
        "        with mlflow.start_run(run_name=\"Lstm_model-Base-line\"):\n",
        "\n",
        "            model = Sequential()\n",
        "            model.add(LSTM(20, input_shape=[None, 1], return_sequences=True))\n",
        "            model.add(LSTM(10, input_shape=[None, 1]))\n",
        "            model.add(Dense(1))\n",
        "            model.compile(loss=\"huber_loss\", optimizer='adam')\n",
        "            model.summary()\n",
        "\n",
        "            history = model.fit(self.TrainDataset, epochs=EPOCHS, validation_data=self.ValidDataset, verbose=verbose)\n",
        "        \n",
        "        self.plot_history(history)\n",
        "        \n",
        "        \n",
        "        return model, history\n",
        "    \n",
        "    def plot_history(self, history):\n",
        "        fig = plt.figure(figsize=(12, 9))\n",
        "        plt.plot(history.history['loss'], label=\"loss\")\n",
        "        plt.plot(history.history['val_loss'], label=\"val_loss\")\n",
        "        plt.legend()\n",
        "        plt.show()\n",
        "        \n",
        "        return fig\n",
        "    \n",
        "   \n",
        "    def model_forecast_test(self, model):\n",
        "\n",
        "        series = self.scaled_df[\"scaled_sales\"].values[:, np.newaxis]\n",
        "\n",
        "        ds = tf.data.Dataset.from_tensor_slices(series)\n",
        "        ds = ds.window(self.WINDOW_SIZE, shift=1, drop_remainder=True) \n",
        "        ds = ds.flat_map(lambda w: w.batch(self.WINDOW_SIZE))\n",
        "        ds = ds.batch(self.SIZE).prefetch(1)\n",
        "        forecast = model.predict(ds)\n",
        "        \n",
        "        Results = forecast[self.BATCH_SIZE-self.WINDOW_SIZE:-1]\n",
        "        Results1 = self.scaler_obj.inverse_transform(Results.reshape(-1,1))\n",
        "        XValid1 = self.scaler_obj.inverse_transform(self.valid_sales.reshape(-1,1))\n",
        "        \n",
        "        fig, MAE, RMSE = self.plot_forcast(Results, Results1, XValid1, self.DateValid, self.WINDOW_SIZE)\n",
        "        \n",
        "        \n",
        "        return forecast, fig, MAE, RMSE\n",
        "    \n",
        "    def plot_forcast(self, Results, Results1, XValid1, DateValid,  WINDOW_SIZE):\n",
        "        fig = plt.figure(figsize=(30, 8))\n",
        "        plt.title(\"LSTM Model Forecast Compared to Validation Data\")\n",
        "        \n",
        "        plt.plot(DateValid.astype('datetime64'), Results1, label='Forecast series')\n",
        "        plt.plot(DateValid.astype('datetime64'), np.reshape(XValid1, (2*WINDOW_SIZE, 1)), label='Validation series')\n",
        "        \n",
        "        plt.xlabel('Date')\n",
        "        plt.ylabel('Thousands of Units')\n",
        "        plt.xticks(DateValid.astype('datetime64')[:,-1], rotation = 90) \n",
        "        plt.legend(loc=\"upper right\")\n",
        "\n",
        "        MAE = tf.keras.metrics.mean_absolute_error(XValid1[:,-1], Results[:,-1]).numpy()\n",
        "        RMSE = np.sqrt(tf.keras.metrics.mean_squared_error(XValid1[:,-1], Results[:,-1]).numpy())\n",
        "\n",
        "        textstr = \"MAE = \" + \"{:.3f}\".format(MAE) + \"  RMSE = \" + \"{:.3f}\".format(RMSE)\n",
        "\n",
        "        # place a text box in upper left in axes coords\n",
        "        plt.annotate(textstr, xy=(0.87, 0.05), xycoords='axes fraction')\n",
        "        plt.grid(True)\n",
        "\n",
        "        plt.show()\n",
        "        \n",
        "        return fig, MAE, RMSE\n",
        "    \n",
        "        \n",
        "        \n",
        "\n",
        "    \n",
        "    def windowed_dataset(self, series, window_size, batch_size): \n",
        "        series = tf.expand_dims(series, axis=-1)\n",
        "        dataset = tf.data.Dataset.from_tensor_slices(series)\n",
        "        dataset = dataset.window(window_size + 1, shift=1, drop_remainder=True) \n",
        "        dataset = dataset.flat_map(lambda window: window.batch(window_size + 1))\n",
        "        dataset = dataset.map(lambda window: (window[:-1], window[-1:]))\n",
        "        dataset = dataset.batch(batch_size).prefetch(1)\n",
        "        return dataset"
      ],
      "execution_count": 32,
      "outputs": []
    },
    {
      "cell_type": "code",
      "metadata": {
        "id": "gy9a9R7ZQVzf"
      },
      "source": [
        "SIZE = len(df_train_agg[\"Sales\"])\n",
        "WINDOW_SIZE = 49\n",
        "BATCH_SIZE= SIZE-WINDOW_SIZE*2\n",
        "EPOCHS = 200\n",
        "\n",
        "t = TimeSeriesSalsesPred(WINDOW_SIZE, BATCH_SIZE, df_train)"
      ],
      "execution_count": 33,
      "outputs": []
    },
    {
      "cell_type": "code",
      "metadata": {
        "colab": {
          "base_uri": "https://localhost:8080/",
          "height": 1000
        },
        "id": "xRqgt7nkRRvM",
        "outputId": "7f9118b9-33f9-4ddb-f998-fc2f35427aa9"
      },
      "source": [
        "model2, his = t.train(EPOCHS)"
      ],
      "execution_count": 35,
      "outputs": [
        {
          "output_type": "stream",
          "text": [
            "INFO: 'Rossman-Lstm_model' does not exist. Creating a new experiment\n",
            "Model: \"sequential\"\n",
            "_________________________________________________________________\n",
            "Layer (type)                 Output Shape              Param #   \n",
            "=================================================================\n",
            "lstm (LSTM)                  (None, None, 20)          1760      \n",
            "_________________________________________________________________\n",
            "lstm_1 (LSTM)                (None, 10)                1240      \n",
            "_________________________________________________________________\n",
            "dense (Dense)                (None, 1)                 11        \n",
            "=================================================================\n",
            "Total params: 3,011\n",
            "Trainable params: 3,011\n",
            "Non-trainable params: 0\n",
            "_________________________________________________________________\n",
            "Epoch 1/200\n",
            "1/1 [==============================] - 5s 5s/step - loss: 0.0764 - val_loss: 0.0691\n",
            "Epoch 2/200\n",
            "1/1 [==============================] - 2s 2s/step - loss: 0.0693 - val_loss: 0.0623\n",
            "Epoch 3/200\n",
            "1/1 [==============================] - 0s 246ms/step - loss: 0.0625 - val_loss: 0.0559\n",
            "Epoch 4/200\n",
            "1/1 [==============================] - 0s 260ms/step - loss: 0.0563 - val_loss: 0.0499\n",
            "Epoch 5/200\n",
            "1/1 [==============================] - 0s 270ms/step - loss: 0.0504 - val_loss: 0.0442\n",
            "Epoch 6/200\n",
            "1/1 [==============================] - 0s 253ms/step - loss: 0.0449 - val_loss: 0.0390\n",
            "Epoch 7/200\n",
            "1/1 [==============================] - 0s 255ms/step - loss: 0.0398 - val_loss: 0.0341\n",
            "Epoch 8/200\n",
            "1/1 [==============================] - 0s 274ms/step - loss: 0.0352 - val_loss: 0.0297\n",
            "Epoch 9/200\n",
            "1/1 [==============================] - 0s 262ms/step - loss: 0.0310 - val_loss: 0.0258\n",
            "Epoch 10/200\n",
            "1/1 [==============================] - 0s 263ms/step - loss: 0.0272 - val_loss: 0.0223\n",
            "Epoch 11/200\n",
            "1/1 [==============================] - 0s 248ms/step - loss: 0.0241 - val_loss: 0.0195\n",
            "Epoch 12/200\n",
            "1/1 [==============================] - 0s 267ms/step - loss: 0.0215 - val_loss: 0.0174\n",
            "Epoch 13/200\n",
            "1/1 [==============================] - 0s 280ms/step - loss: 0.0196 - val_loss: 0.0160\n",
            "Epoch 14/200\n",
            "1/1 [==============================] - 0s 263ms/step - loss: 0.0185 - val_loss: 0.0153\n",
            "Epoch 15/200\n",
            "1/1 [==============================] - 0s 258ms/step - loss: 0.0182 - val_loss: 0.0154\n",
            "Epoch 16/200\n",
            "1/1 [==============================] - 0s 244ms/step - loss: 0.0185 - val_loss: 0.0161\n",
            "Epoch 17/200\n",
            "1/1 [==============================] - 0s 280ms/step - loss: 0.0194 - val_loss: 0.0170\n",
            "Epoch 18/200\n",
            "1/1 [==============================] - 0s 247ms/step - loss: 0.0205 - val_loss: 0.0177\n",
            "Epoch 19/200\n",
            "1/1 [==============================] - 0s 262ms/step - loss: 0.0214 - val_loss: 0.0181\n",
            "Epoch 20/200\n",
            "1/1 [==============================] - 0s 262ms/step - loss: 0.0218 - val_loss: 0.0180\n",
            "Epoch 21/200\n",
            "1/1 [==============================] - 0s 263ms/step - loss: 0.0217 - val_loss: 0.0177\n",
            "Epoch 22/200\n",
            "1/1 [==============================] - 0s 270ms/step - loss: 0.0213 - val_loss: 0.0171\n",
            "Epoch 23/200\n",
            "1/1 [==============================] - 0s 262ms/step - loss: 0.0207 - val_loss: 0.0166\n",
            "Epoch 24/200\n",
            "1/1 [==============================] - 0s 279ms/step - loss: 0.0200 - val_loss: 0.0161\n",
            "Epoch 25/200\n",
            "1/1 [==============================] - 0s 274ms/step - loss: 0.0194 - val_loss: 0.0157\n",
            "Epoch 26/200\n",
            "1/1 [==============================] - 0s 264ms/step - loss: 0.0188 - val_loss: 0.0154\n",
            "Epoch 27/200\n",
            "1/1 [==============================] - 0s 282ms/step - loss: 0.0185 - val_loss: 0.0153\n",
            "Epoch 28/200\n",
            "1/1 [==============================] - 0s 248ms/step - loss: 0.0183 - val_loss: 0.0153\n",
            "Epoch 29/200\n",
            "1/1 [==============================] - 0s 247ms/step - loss: 0.0182 - val_loss: 0.0154\n",
            "Epoch 30/200\n",
            "1/1 [==============================] - 0s 275ms/step - loss: 0.0182 - val_loss: 0.0156\n",
            "Epoch 31/200\n",
            "1/1 [==============================] - 0s 273ms/step - loss: 0.0182 - val_loss: 0.0158\n",
            "Epoch 32/200\n",
            "1/1 [==============================] - 0s 250ms/step - loss: 0.0183 - val_loss: 0.0159\n",
            "Epoch 33/200\n",
            "1/1 [==============================] - 0s 258ms/step - loss: 0.0184 - val_loss: 0.0161\n",
            "Epoch 34/200\n",
            "1/1 [==============================] - 0s 263ms/step - loss: 0.0185 - val_loss: 0.0162\n",
            "Epoch 35/200\n",
            "1/1 [==============================] - 0s 267ms/step - loss: 0.0186 - val_loss: 0.0162\n",
            "Epoch 36/200\n",
            "1/1 [==============================] - 0s 256ms/step - loss: 0.0187 - val_loss: 0.0163\n",
            "Epoch 37/200\n",
            "1/1 [==============================] - 0s 260ms/step - loss: 0.0187 - val_loss: 0.0162\n",
            "Epoch 38/200\n",
            "1/1 [==============================] - 0s 260ms/step - loss: 0.0187 - val_loss: 0.0162\n",
            "Epoch 39/200\n",
            "1/1 [==============================] - 0s 249ms/step - loss: 0.0186 - val_loss: 0.0161\n",
            "Epoch 40/200\n",
            "1/1 [==============================] - 0s 260ms/step - loss: 0.0186 - val_loss: 0.0160\n",
            "Epoch 41/200\n",
            "1/1 [==============================] - 0s 248ms/step - loss: 0.0185 - val_loss: 0.0159\n",
            "Epoch 42/200\n",
            "1/1 [==============================] - 0s 254ms/step - loss: 0.0184 - val_loss: 0.0158\n",
            "Epoch 43/200\n",
            "1/1 [==============================] - 0s 273ms/step - loss: 0.0183 - val_loss: 0.0157\n",
            "Epoch 44/200\n",
            "1/1 [==============================] - 0s 259ms/step - loss: 0.0183 - val_loss: 0.0156\n",
            "Epoch 45/200\n",
            "1/1 [==============================] - 0s 253ms/step - loss: 0.0182 - val_loss: 0.0155\n",
            "Epoch 46/200\n",
            "1/1 [==============================] - 0s 245ms/step - loss: 0.0181 - val_loss: 0.0154\n",
            "Epoch 47/200\n",
            "1/1 [==============================] - 0s 258ms/step - loss: 0.0181 - val_loss: 0.0153\n",
            "Epoch 48/200\n",
            "1/1 [==============================] - 0s 252ms/step - loss: 0.0181 - val_loss: 0.0153\n",
            "Epoch 49/200\n",
            "1/1 [==============================] - 0s 268ms/step - loss: 0.0181 - val_loss: 0.0153\n",
            "Epoch 50/200\n",
            "1/1 [==============================] - 0s 263ms/step - loss: 0.0181 - val_loss: 0.0153\n",
            "Epoch 51/200\n",
            "1/1 [==============================] - 0s 251ms/step - loss: 0.0181 - val_loss: 0.0153\n",
            "Epoch 52/200\n",
            "1/1 [==============================] - 0s 242ms/step - loss: 0.0181 - val_loss: 0.0153\n",
            "Epoch 53/200\n",
            "1/1 [==============================] - 0s 259ms/step - loss: 0.0182 - val_loss: 0.0153\n",
            "Epoch 54/200\n",
            "1/1 [==============================] - 0s 261ms/step - loss: 0.0182 - val_loss: 0.0153\n",
            "Epoch 55/200\n",
            "1/1 [==============================] - 0s 262ms/step - loss: 0.0182 - val_loss: 0.0153\n",
            "Epoch 56/200\n",
            "1/1 [==============================] - 0s 262ms/step - loss: 0.0182 - val_loss: 0.0152\n",
            "Epoch 57/200\n",
            "1/1 [==============================] - 0s 267ms/step - loss: 0.0182 - val_loss: 0.0152\n",
            "Epoch 58/200\n",
            "1/1 [==============================] - 0s 267ms/step - loss: 0.0181 - val_loss: 0.0152\n",
            "Epoch 59/200\n",
            "1/1 [==============================] - 0s 259ms/step - loss: 0.0181 - val_loss: 0.0152\n",
            "Epoch 60/200\n",
            "1/1 [==============================] - 0s 276ms/step - loss: 0.0181 - val_loss: 0.0152\n",
            "Epoch 61/200\n",
            "1/1 [==============================] - 0s 256ms/step - loss: 0.0181 - val_loss: 0.0152\n",
            "Epoch 62/200\n",
            "1/1 [==============================] - 0s 260ms/step - loss: 0.0181 - val_loss: 0.0152\n",
            "Epoch 63/200\n",
            "1/1 [==============================] - 0s 264ms/step - loss: 0.0181 - val_loss: 0.0153\n",
            "Epoch 64/200\n",
            "1/1 [==============================] - 0s 271ms/step - loss: 0.0181 - val_loss: 0.0153\n",
            "Epoch 65/200\n",
            "1/1 [==============================] - 0s 252ms/step - loss: 0.0180 - val_loss: 0.0153\n",
            "Epoch 66/200\n",
            "1/1 [==============================] - 0s 269ms/step - loss: 0.0180 - val_loss: 0.0153\n",
            "Epoch 67/200\n",
            "1/1 [==============================] - 0s 281ms/step - loss: 0.0180 - val_loss: 0.0153\n",
            "Epoch 68/200\n",
            "1/1 [==============================] - 0s 248ms/step - loss: 0.0180 - val_loss: 0.0153\n",
            "Epoch 69/200\n",
            "1/1 [==============================] - 0s 256ms/step - loss: 0.0180 - val_loss: 0.0153\n",
            "Epoch 70/200\n",
            "1/1 [==============================] - 0s 267ms/step - loss: 0.0180 - val_loss: 0.0153\n",
            "Epoch 71/200\n",
            "1/1 [==============================] - 0s 244ms/step - loss: 0.0180 - val_loss: 0.0153\n",
            "Epoch 72/200\n",
            "1/1 [==============================] - 0s 254ms/step - loss: 0.0180 - val_loss: 0.0153\n",
            "Epoch 73/200\n",
            "1/1 [==============================] - 0s 257ms/step - loss: 0.0180 - val_loss: 0.0153\n",
            "Epoch 74/200\n",
            "1/1 [==============================] - 0s 252ms/step - loss: 0.0180 - val_loss: 0.0153\n",
            "Epoch 75/200\n",
            "1/1 [==============================] - 0s 254ms/step - loss: 0.0180 - val_loss: 0.0153\n",
            "Epoch 76/200\n",
            "1/1 [==============================] - 0s 270ms/step - loss: 0.0180 - val_loss: 0.0152\n",
            "Epoch 77/200\n",
            "1/1 [==============================] - 0s 269ms/step - loss: 0.0180 - val_loss: 0.0152\n",
            "Epoch 78/200\n",
            "1/1 [==============================] - 0s 254ms/step - loss: 0.0180 - val_loss: 0.0152\n",
            "Epoch 79/200\n",
            "1/1 [==============================] - 0s 257ms/step - loss: 0.0180 - val_loss: 0.0152\n",
            "Epoch 80/200\n",
            "1/1 [==============================] - 0s 262ms/step - loss: 0.0180 - val_loss: 0.0152\n",
            "Epoch 81/200\n",
            "1/1 [==============================] - 0s 266ms/step - loss: 0.0180 - val_loss: 0.0152\n",
            "Epoch 82/200\n",
            "1/1 [==============================] - 0s 256ms/step - loss: 0.0180 - val_loss: 0.0152\n",
            "Epoch 83/200\n",
            "1/1 [==============================] - 0s 253ms/step - loss: 0.0180 - val_loss: 0.0152\n",
            "Epoch 84/200\n",
            "1/1 [==============================] - 0s 251ms/step - loss: 0.0180 - val_loss: 0.0152\n",
            "Epoch 85/200\n",
            "1/1 [==============================] - 0s 262ms/step - loss: 0.0180 - val_loss: 0.0152\n",
            "Epoch 86/200\n",
            "1/1 [==============================] - 0s 252ms/step - loss: 0.0180 - val_loss: 0.0151\n",
            "Epoch 87/200\n",
            "1/1 [==============================] - 0s 252ms/step - loss: 0.0180 - val_loss: 0.0151\n",
            "Epoch 88/200\n",
            "1/1 [==============================] - 0s 246ms/step - loss: 0.0180 - val_loss: 0.0151\n",
            "Epoch 89/200\n",
            "1/1 [==============================] - 0s 253ms/step - loss: 0.0180 - val_loss: 0.0151\n",
            "Epoch 90/200\n",
            "1/1 [==============================] - 0s 249ms/step - loss: 0.0180 - val_loss: 0.0151\n",
            "Epoch 91/200\n",
            "1/1 [==============================] - 0s 263ms/step - loss: 0.0180 - val_loss: 0.0151\n",
            "Epoch 92/200\n",
            "1/1 [==============================] - 0s 253ms/step - loss: 0.0180 - val_loss: 0.0151\n",
            "Epoch 93/200\n",
            "1/1 [==============================] - 0s 258ms/step - loss: 0.0180 - val_loss: 0.0151\n",
            "Epoch 94/200\n",
            "1/1 [==============================] - 0s 262ms/step - loss: 0.0180 - val_loss: 0.0151\n",
            "Epoch 95/200\n",
            "1/1 [==============================] - 0s 244ms/step - loss: 0.0180 - val_loss: 0.0151\n",
            "Epoch 96/200\n",
            "1/1 [==============================] - 0s 258ms/step - loss: 0.0179 - val_loss: 0.0151\n",
            "Epoch 97/200\n",
            "1/1 [==============================] - 0s 257ms/step - loss: 0.0179 - val_loss: 0.0151\n",
            "Epoch 98/200\n",
            "1/1 [==============================] - 0s 255ms/step - loss: 0.0179 - val_loss: 0.0151\n",
            "Epoch 99/200\n",
            "1/1 [==============================] - 0s 264ms/step - loss: 0.0179 - val_loss: 0.0151\n",
            "Epoch 100/200\n",
            "1/1 [==============================] - 0s 252ms/step - loss: 0.0179 - val_loss: 0.0151\n",
            "Epoch 101/200\n",
            "1/1 [==============================] - 0s 277ms/step - loss: 0.0179 - val_loss: 0.0151\n",
            "Epoch 102/200\n",
            "1/1 [==============================] - 0s 262ms/step - loss: 0.0179 - val_loss: 0.0151\n",
            "Epoch 103/200\n",
            "1/1 [==============================] - 0s 258ms/step - loss: 0.0179 - val_loss: 0.0151\n",
            "Epoch 104/200\n",
            "1/1 [==============================] - 0s 256ms/step - loss: 0.0179 - val_loss: 0.0151\n",
            "Epoch 105/200\n",
            "1/1 [==============================] - 0s 264ms/step - loss: 0.0179 - val_loss: 0.0151\n",
            "Epoch 106/200\n",
            "1/1 [==============================] - 0s 251ms/step - loss: 0.0179 - val_loss: 0.0151\n",
            "Epoch 107/200\n",
            "1/1 [==============================] - 0s 265ms/step - loss: 0.0179 - val_loss: 0.0151\n",
            "Epoch 108/200\n",
            "1/1 [==============================] - 0s 263ms/step - loss: 0.0179 - val_loss: 0.0151\n",
            "Epoch 109/200\n",
            "1/1 [==============================] - 0s 255ms/step - loss: 0.0179 - val_loss: 0.0151\n",
            "Epoch 110/200\n",
            "1/1 [==============================] - 0s 270ms/step - loss: 0.0179 - val_loss: 0.0151\n",
            "Epoch 111/200\n",
            "1/1 [==============================] - 0s 269ms/step - loss: 0.0179 - val_loss: 0.0151\n",
            "Epoch 112/200\n",
            "1/1 [==============================] - 0s 260ms/step - loss: 0.0179 - val_loss: 0.0150\n",
            "Epoch 113/200\n",
            "1/1 [==============================] - 0s 261ms/step - loss: 0.0179 - val_loss: 0.0150\n",
            "Epoch 114/200\n",
            "1/1 [==============================] - 0s 283ms/step - loss: 0.0179 - val_loss: 0.0150\n",
            "Epoch 115/200\n",
            "1/1 [==============================] - 0s 274ms/step - loss: 0.0179 - val_loss: 0.0150\n",
            "Epoch 116/200\n",
            "1/1 [==============================] - 0s 270ms/step - loss: 0.0179 - val_loss: 0.0150\n",
            "Epoch 117/200\n",
            "1/1 [==============================] - 0s 264ms/step - loss: 0.0179 - val_loss: 0.0150\n",
            "Epoch 118/200\n",
            "1/1 [==============================] - 0s 272ms/step - loss: 0.0179 - val_loss: 0.0150\n",
            "Epoch 119/200\n",
            "1/1 [==============================] - 0s 298ms/step - loss: 0.0179 - val_loss: 0.0150\n",
            "Epoch 120/200\n",
            "1/1 [==============================] - 0s 265ms/step - loss: 0.0179 - val_loss: 0.0150\n",
            "Epoch 121/200\n",
            "1/1 [==============================] - 0s 272ms/step - loss: 0.0179 - val_loss: 0.0150\n",
            "Epoch 122/200\n",
            "1/1 [==============================] - 0s 275ms/step - loss: 0.0179 - val_loss: 0.0150\n",
            "Epoch 123/200\n",
            "1/1 [==============================] - 0s 269ms/step - loss: 0.0179 - val_loss: 0.0150\n",
            "Epoch 124/200\n",
            "1/1 [==============================] - 0s 258ms/step - loss: 0.0179 - val_loss: 0.0150\n",
            "Epoch 125/200\n",
            "1/1 [==============================] - 0s 271ms/step - loss: 0.0178 - val_loss: 0.0150\n",
            "Epoch 126/200\n",
            "1/1 [==============================] - 0s 265ms/step - loss: 0.0178 - val_loss: 0.0150\n",
            "Epoch 127/200\n",
            "1/1 [==============================] - 0s 258ms/step - loss: 0.0178 - val_loss: 0.0150\n",
            "Epoch 128/200\n",
            "1/1 [==============================] - 0s 269ms/step - loss: 0.0178 - val_loss: 0.0150\n",
            "Epoch 129/200\n",
            "1/1 [==============================] - 0s 266ms/step - loss: 0.0178 - val_loss: 0.0150\n",
            "Epoch 130/200\n",
            "1/1 [==============================] - 0s 257ms/step - loss: 0.0178 - val_loss: 0.0150\n",
            "Epoch 131/200\n",
            "1/1 [==============================] - 0s 267ms/step - loss: 0.0178 - val_loss: 0.0150\n",
            "Epoch 132/200\n",
            "1/1 [==============================] - 0s 261ms/step - loss: 0.0178 - val_loss: 0.0150\n",
            "Epoch 133/200\n",
            "1/1 [==============================] - 0s 262ms/step - loss: 0.0178 - val_loss: 0.0150\n",
            "Epoch 134/200\n",
            "1/1 [==============================] - 0s 271ms/step - loss: 0.0178 - val_loss: 0.0149\n",
            "Epoch 135/200\n",
            "1/1 [==============================] - 0s 269ms/step - loss: 0.0178 - val_loss: 0.0149\n",
            "Epoch 136/200\n",
            "1/1 [==============================] - 0s 257ms/step - loss: 0.0178 - val_loss: 0.0149\n",
            "Epoch 137/200\n",
            "1/1 [==============================] - 0s 257ms/step - loss: 0.0178 - val_loss: 0.0149\n",
            "Epoch 138/200\n",
            "1/1 [==============================] - 0s 273ms/step - loss: 0.0178 - val_loss: 0.0149\n",
            "Epoch 139/200\n",
            "1/1 [==============================] - 0s 262ms/step - loss: 0.0178 - val_loss: 0.0149\n",
            "Epoch 140/200\n",
            "1/1 [==============================] - 0s 262ms/step - loss: 0.0178 - val_loss: 0.0149\n",
            "Epoch 141/200\n",
            "1/1 [==============================] - 0s 264ms/step - loss: 0.0178 - val_loss: 0.0149\n",
            "Epoch 142/200\n",
            "1/1 [==============================] - 0s 265ms/step - loss: 0.0178 - val_loss: 0.0149\n",
            "Epoch 143/200\n",
            "1/1 [==============================] - 0s 258ms/step - loss: 0.0178 - val_loss: 0.0149\n",
            "Epoch 144/200\n",
            "1/1 [==============================] - 0s 251ms/step - loss: 0.0178 - val_loss: 0.0149\n",
            "Epoch 145/200\n",
            "1/1 [==============================] - 0s 268ms/step - loss: 0.0178 - val_loss: 0.0149\n",
            "Epoch 146/200\n",
            "1/1 [==============================] - 0s 260ms/step - loss: 0.0178 - val_loss: 0.0149\n",
            "Epoch 147/200\n",
            "1/1 [==============================] - 0s 255ms/step - loss: 0.0178 - val_loss: 0.0149\n",
            "Epoch 148/200\n",
            "1/1 [==============================] - 0s 256ms/step - loss: 0.0178 - val_loss: 0.0149\n",
            "Epoch 149/200\n",
            "1/1 [==============================] - 0s 284ms/step - loss: 0.0178 - val_loss: 0.0149\n",
            "Epoch 150/200\n",
            "1/1 [==============================] - 0s 256ms/step - loss: 0.0178 - val_loss: 0.0149\n",
            "Epoch 151/200\n",
            "1/1 [==============================] - 0s 261ms/step - loss: 0.0178 - val_loss: 0.0149\n",
            "Epoch 152/200\n",
            "1/1 [==============================] - 0s 290ms/step - loss: 0.0177 - val_loss: 0.0149\n",
            "Epoch 153/200\n",
            "1/1 [==============================] - 0s 252ms/step - loss: 0.0177 - val_loss: 0.0149\n",
            "Epoch 154/200\n",
            "1/1 [==============================] - 0s 269ms/step - loss: 0.0177 - val_loss: 0.0148\n",
            "Epoch 155/200\n",
            "1/1 [==============================] - 0s 277ms/step - loss: 0.0177 - val_loss: 0.0148\n",
            "Epoch 156/200\n",
            "1/1 [==============================] - 0s 269ms/step - loss: 0.0177 - val_loss: 0.0148\n",
            "Epoch 157/200\n",
            "1/1 [==============================] - 0s 260ms/step - loss: 0.0177 - val_loss: 0.0148\n",
            "Epoch 158/200\n",
            "1/1 [==============================] - 0s 279ms/step - loss: 0.0177 - val_loss: 0.0148\n",
            "Epoch 159/200\n",
            "1/1 [==============================] - 0s 254ms/step - loss: 0.0177 - val_loss: 0.0148\n",
            "Epoch 160/200\n",
            "1/1 [==============================] - 0s 279ms/step - loss: 0.0177 - val_loss: 0.0148\n",
            "Epoch 161/200\n",
            "1/1 [==============================] - 0s 266ms/step - loss: 0.0177 - val_loss: 0.0148\n",
            "Epoch 162/200\n",
            "1/1 [==============================] - 0s 262ms/step - loss: 0.0177 - val_loss: 0.0148\n",
            "Epoch 163/200\n",
            "1/1 [==============================] - 0s 255ms/step - loss: 0.0177 - val_loss: 0.0148\n",
            "Epoch 164/200\n",
            "1/1 [==============================] - 0s 282ms/step - loss: 0.0177 - val_loss: 0.0148\n",
            "Epoch 165/200\n",
            "1/1 [==============================] - 0s 258ms/step - loss: 0.0177 - val_loss: 0.0148\n",
            "Epoch 166/200\n",
            "1/1 [==============================] - 0s 278ms/step - loss: 0.0177 - val_loss: 0.0148\n",
            "Epoch 167/200\n",
            "1/1 [==============================] - 0s 291ms/step - loss: 0.0177 - val_loss: 0.0148\n",
            "Epoch 168/200\n",
            "1/1 [==============================] - 0s 257ms/step - loss: 0.0177 - val_loss: 0.0148\n",
            "Epoch 169/200\n",
            "1/1 [==============================] - 0s 269ms/step - loss: 0.0177 - val_loss: 0.0148\n",
            "Epoch 170/200\n",
            "1/1 [==============================] - 0s 285ms/step - loss: 0.0177 - val_loss: 0.0148\n",
            "Epoch 171/200\n",
            "1/1 [==============================] - 0s 259ms/step - loss: 0.0177 - val_loss: 0.0148\n",
            "Epoch 172/200\n",
            "1/1 [==============================] - 0s 271ms/step - loss: 0.0177 - val_loss: 0.0148\n",
            "Epoch 173/200\n",
            "1/1 [==============================] - 0s 261ms/step - loss: 0.0177 - val_loss: 0.0147\n",
            "Epoch 174/200\n",
            "1/1 [==============================] - 0s 266ms/step - loss: 0.0177 - val_loss: 0.0147\n",
            "Epoch 175/200\n",
            "1/1 [==============================] - 0s 255ms/step - loss: 0.0177 - val_loss: 0.0147\n",
            "Epoch 176/200\n",
            "1/1 [==============================] - 0s 266ms/step - loss: 0.0176 - val_loss: 0.0147\n",
            "Epoch 177/200\n",
            "1/1 [==============================] - 0s 267ms/step - loss: 0.0176 - val_loss: 0.0147\n",
            "Epoch 178/200\n",
            "1/1 [==============================] - 0s 260ms/step - loss: 0.0176 - val_loss: 0.0147\n",
            "Epoch 179/200\n",
            "1/1 [==============================] - 0s 259ms/step - loss: 0.0176 - val_loss: 0.0147\n",
            "Epoch 180/200\n",
            "1/1 [==============================] - 0s 284ms/step - loss: 0.0176 - val_loss: 0.0147\n",
            "Epoch 181/200\n",
            "1/1 [==============================] - 0s 268ms/step - loss: 0.0176 - val_loss: 0.0147\n",
            "Epoch 182/200\n",
            "1/1 [==============================] - 0s 254ms/step - loss: 0.0176 - val_loss: 0.0147\n",
            "Epoch 183/200\n",
            "1/1 [==============================] - 0s 269ms/step - loss: 0.0176 - val_loss: 0.0147\n",
            "Epoch 184/200\n",
            "1/1 [==============================] - 0s 261ms/step - loss: 0.0176 - val_loss: 0.0147\n",
            "Epoch 185/200\n",
            "1/1 [==============================] - 0s 262ms/step - loss: 0.0176 - val_loss: 0.0147\n",
            "Epoch 186/200\n",
            "1/1 [==============================] - 0s 276ms/step - loss: 0.0176 - val_loss: 0.0147\n",
            "Epoch 187/200\n",
            "1/1 [==============================] - 0s 262ms/step - loss: 0.0176 - val_loss: 0.0147\n",
            "Epoch 188/200\n",
            "1/1 [==============================] - 0s 262ms/step - loss: 0.0176 - val_loss: 0.0147\n",
            "Epoch 189/200\n",
            "1/1 [==============================] - 0s 276ms/step - loss: 0.0176 - val_loss: 0.0147\n",
            "Epoch 190/200\n",
            "1/1 [==============================] - 0s 263ms/step - loss: 0.0176 - val_loss: 0.0147\n",
            "Epoch 191/200\n",
            "1/1 [==============================] - 0s 260ms/step - loss: 0.0176 - val_loss: 0.0146\n",
            "Epoch 192/200\n",
            "1/1 [==============================] - 0s 271ms/step - loss: 0.0176 - val_loss: 0.0146\n",
            "Epoch 193/200\n",
            "1/1 [==============================] - 0s 259ms/step - loss: 0.0176 - val_loss: 0.0146\n",
            "Epoch 194/200\n",
            "1/1 [==============================] - 0s 270ms/step - loss: 0.0176 - val_loss: 0.0146\n",
            "Epoch 195/200\n",
            "1/1 [==============================] - 0s 257ms/step - loss: 0.0176 - val_loss: 0.0146\n",
            "Epoch 196/200\n",
            "1/1 [==============================] - 0s 263ms/step - loss: 0.0176 - val_loss: 0.0146\n",
            "Epoch 197/200\n",
            "1/1 [==============================] - 0s 260ms/step - loss: 0.0176 - val_loss: 0.0146\n",
            "Epoch 198/200\n",
            "1/1 [==============================] - 0s 250ms/step - loss: 0.0175 - val_loss: 0.0146\n",
            "Epoch 199/200\n",
            "1/1 [==============================] - 0s 269ms/step - loss: 0.0175 - val_loss: 0.0146\n",
            "Epoch 200/200\n",
            "1/1 [==============================] - 0s 256ms/step - loss: 0.0175 - val_loss: 0.0146\n"
          ],
          "name": "stdout"
        },
        {
          "output_type": "stream",
          "text": [
            "WARNING:absl:Found untraced functions such as lstm_cell_layer_call_fn, lstm_cell_layer_call_and_return_conditional_losses, lstm_cell_1_layer_call_fn, lstm_cell_1_layer_call_and_return_conditional_losses, lstm_cell_layer_call_fn while saving (showing 5 of 10). These functions will not be directly callable after loading.\n"
          ],
          "name": "stderr"
        },
        {
          "output_type": "stream",
          "text": [
            "INFO:tensorflow:Assets written to: /tmp/tmprz321avz/model/data/model/assets\n"
          ],
          "name": "stdout"
        },
        {
          "output_type": "stream",
          "text": [
            "INFO:tensorflow:Assets written to: /tmp/tmprz321avz/model/data/model/assets\n"
          ],
          "name": "stderr"
        },
        {
          "output_type": "display_data",
          "data": {
            "image/png": "[encoded data removed]",
            "text/plain": [
              "<Figure size 864x648 with 1 Axes>"
            ]
          },
          "metadata": {
            "tags": []
          }
        }
      ]
    }
  ]
}