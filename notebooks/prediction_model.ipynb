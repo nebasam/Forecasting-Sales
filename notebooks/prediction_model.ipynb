{
 "cells": [
  {
   "cell_type": "code",
   "execution_count": 2,
   "metadata": {},
   "outputs": [],
   "source": [
    "\n",
    "import os\n",
    "import sys\n",
    "from IPython.display import Markdown, display, Image\n",
    "import numpy as np\n",
    "import pandas as pd\n",
    "import random\n",
    "import math\n",
    "import dvc.api\n",
    "sys.path.append(os.path.abspath(os.path.join('../scripts')))\n",
    "from plotsClass import Plot\n",
    "from logger import App_Logger\n",
    "from sklearn import preprocessing\n",
    "import mlflow\n",
    "import seaborn as sns\n",
    "import matplotlib.pyplot as plt\n",
    "\n",
    "from sklearn.metrics import mean_squared_error, mean_absolute_error \n",
    "from sklearn.model_selection import train_test_split\n",
    "from sklearn.compose import ColumnTransformer\n",
    "from sklearn.pipeline import Pipeline\n",
    "from sklearn.impute import SimpleImputer\n",
    "from sklearn.preprocessing import StandardScaler, OneHotEncoder, LabelEncoder, OrdinalEncoder\n",
    "from sklearn.metrics import r2_score\n",
    "from sklearn.ensemble import RandomForestRegressor\n",
    "from sklearn.linear_model import LinearRegression\n",
    "\n",
    "\n",
    "\n",
    "sns.set()"
   ]
  }
 ],
 "metadata": {
  "interpreter": {
   "hash": "9ee97d8487feb6d470c605b7ca39c2cf79d2b1cb11de9467eaea98aaa4244977"
  },
  "kernelspec": {
   "display_name": "Python 3.9.5 64-bit ('forecast': conda)",
   "name": "python3"
  },
  "language_info": {
   "codemirror_mode": {
    "name": "ipython",
    "version": 3
   },
   "file_extension": ".py",
   "mimetype": "text/x-python",
   "name": "python",
   "nbconvert_exporter": "python",
   "pygments_lexer": "ipython3",
   "version": "3.9.5"
  },
  "orig_nbformat": 4
 },
 "nbformat": 4,
 "nbformat_minor": 2
}