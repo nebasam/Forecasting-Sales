{
  "nbformat": 4,
  "nbformat_minor": 0,
  "metadata": {
    "colab": {
      "name": "rossman_time_analysis.ipynb",
      "provenance": []
    },
    "kernelspec": {
      "name": "python3",
      "display_name": "Python 3"
    },
    "language_info": {
      "name": "python"
    }
  },
  "cells": [
    {
      "cell_type": "code",
      "metadata": {
        "id": "XKYfFz4Jr5Jv"
      },
      "source": [
        "from google_drive_downloader import GoogleDriveDownloader as gdd"
      ],
      "execution_count": 11,
      "outputs": []
    },
    {
      "cell_type": "code",
      "metadata": {
        "id": "TCrsUO_Csg2q"
      },
      "source": [
        "from google_drive_downloader import GoogleDriveDownloader as gdd\n",
        "\n",
        "gdd.download_file_from_google_drive(file_id='1NkFzQ5N-I1J34-0uStvw0xaPbntqk7AV',\n",
        "dest_path='content/rosseman.zip',   \n",
        "unzip=True)"
      ],
      "execution_count": 12,
      "outputs": []
    },
    {
      "cell_type": "code",
      "metadata": {
        "id": "j2PJZsqt_TTr"
      },
      "source": [
        "# since the size of teras package is too big I have done Rnn in google collab."
      ],
      "execution_count": null,
      "outputs": []
    },
    {
      "cell_type": "markdown",
      "metadata": {
        "id": "juXt6fuR_UfS"
      },
      "source": [
        ""
      ]
    },
    {
      "cell_type": "code",
      "metadata": {
        "id": "tXcDHtjT_j6O"
      },
      "source": [
        "from IPython.display import Markdown, display, Image\n",
        "import warnings\n",
        "warnings.filterwarnings('ignore')"
      ],
      "execution_count": 2,
      "outputs": []
    },
    {
      "cell_type": "code",
      "metadata": {
        "id": "3lh9g7_D_-OR"
      },
      "source": [
        "import seaborn as sns\n",
        "import matplotlib.pyplot as plt\n",
        "%matplotlib inline\n",
        "import plotly.express as px\n",
        "import numpy as np\n",
        "from statsmodels.tsa.stattools import adfuller, acf, pacf\n",
        "import pandas as pd\n",
        "from sklearn.preprocessing import Normalizer, MinMaxScaler, StandardScaler, RobustScaler\n",
        "from statsmodels.graphics.tsaplots import plot_acf, plot_pacf\n",
        "import datetime\n",
        "import tensorflow as tf\n",
        "from tensorflow.keras.models import Sequential\n",
        "from tensorflow.keras.layers import Dense\n",
        "from tensorflow.keras.layers import LSTM\n",
        "sns.set()"
      ],
      "execution_count": 3,
      "outputs": []
    },
    {
      "cell_type": "code",
      "metadata": {
        "id": "GzmQfBhFAY_7"
      },
      "source": [
        "def read_csv(csv_path, missing_values=[]):\n",
        "  \"\"\"\n",
        "  reads csv file\n",
        "  \"\"\"\n",
        "  try:\n",
        "    df = pd.read_csv(csv_path, na_values=missing_values)\n",
        "    print(\"file read as csv\")\n",
        "    return df\n",
        "  except FileNotFoundError:\n",
        "    print(\"file not found\")"
      ],
      "execution_count": 7,
      "outputs": []
    },
    {
      "cell_type": "code",
      "metadata": {
        "colab": {
          "base_uri": "https://localhost:8080/"
        },
        "id": "2Q7rskrpAMDc",
        "outputId": "65187b51-256c-4407-a28e-8c842415c75e"
      },
      "source": [
        "df_train_store = read_csv(\"content/rossman data/train_store.csv\")\n",
        "test = read_csv(\"content/rossman data/test.csv\")"
      ],
      "execution_count": 16,
      "outputs": [
        {
          "output_type": "stream",
          "text": [
            "file read as csv\n",
            "file read as csv\n"
          ],
          "name": "stdout"
        }
      ]
    }
  ]
}